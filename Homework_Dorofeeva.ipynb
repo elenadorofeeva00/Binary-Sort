{
 "cells": [
  {
   "cell_type": "markdown",
   "metadata": {},
   "source": [
    "# Homework"
   ]
  },
  {
   "cell_type": "markdown",
   "metadata": {},
   "source": [
    "В данной работе я попробовала реализовать бинарный поиск для нахождения ближайшего элемента в массиве. Так же в Python есть бибилотека, содержащая функцию bisect_left, которая при помощи бинарного поиска возвращает индекс элемента, который является наиближайшим элементом снизу. Как показала практика, встроенный модуль бинарного поиска работает быстрее."
   ]
  },
  {
   "cell_type": "code",
   "execution_count": 13,
   "metadata": {},
   "outputs": [],
   "source": [
    "import numpy as np\n",
    "import time"
   ]
  },
  {
   "cell_type": "code",
   "execution_count": 14,
   "metadata": {},
   "outputs": [],
   "source": [
    "def get_sample_timestamps(fps, video_length_sec):\n",
    "    timestamps = np.linspace(time.time(), time.time() + video_length_sec, video_length_sec * fps)\n",
    "    timestamps += np.random.randn(len(timestamps)) / fps # emulate high CPU of drive load\n",
    "    timestamps = np.sort(timestamps) # despite the load, timestamps have to be sorted\n",
    "    return timestamps"
   ]
  },
  {
   "cell_type": "code",
   "execution_count": 16,
   "metadata": {},
   "outputs": [
    {
     "name": "stdout",
     "output_type": "stream",
     "text": [
      "Time:  15.431870865821839\n"
     ]
    }
   ],
   "source": [
    "def match_timestamps(timestamps_30fps, timestamps_60fps):\n",
    "    \"\"\"\n",
    "    Let's say we have two cameras capturing the same scene. \n",
    "    One camera's frame rate is 60, antoher's is 30. However, due to a high CPU or \n",
    "    hard drive load the actual fps might differ from 30 and 60.\n",
    "    \n",
    "    This function matches the frames from the first camera to the second one, meaning\n",
    "    that for each timestamp in timestamps_60fps it finds the index of closest one in timestamps_30fps.\n",
    "    \n",
    "    Inputs:\n",
    "        - timestamps_30fps: sorted np.ndarray, dtype=np.floa64. Timestamps of the 30 fps camera.\n",
    "        - timestamps_60fps: sorted np.ndarray, dtype=np.floa64. Timestamps of the 60 fps camera. \n",
    "    Outputs:\n",
    "        - idxs: np.ndarray, dtype=np.int32. Indexes of timestamps matching.\n",
    "\n",
    "    Example:\n",
    "        - timestamps_30fps = np.array([0, 0.033, 0.066], dtype=np.float64)\n",
    "        - timestamps_60fps = np.array([0, 0.016, 0.032, 0.048, 0.065], dtype=np.float64)\n",
    "        - idxs = np.array([0, 0, 1, 1, 2], dtype=np.int32)\n",
    "    \n",
    "    This function must be as fast as possible on CPU from both algorithmic and Python-wise implementation perspectives.\n",
    "    It must provide the correct result and must not fail on any realization of the described input. \n",
    "    You may use ANY lib or method you want up to writing a C++ wrapping callable from Python. \n",
    "    Consider you have multiple CPU cores.\n",
    "    Send the best implementation of this function to asshilov@yandex.com or to tg @a_team2 before 23:59 24.11 \n",
    "    in .py or .ipynb formats.\n",
    "    Good luck!\n",
    "    \"\"\"\n",
    "    #idxs = np.ones(len(timestamps_60fps), dtype=np.int32) # replace this with your code\n",
    "    #return idxs\n",
    "    \n",
    "    #будем реализовывать поиск ближайшего элемента через бинарный поиск\n",
    "    \n",
    "    answer = []\n",
    "    \n",
    "    for el in timestamps_60fps:\n",
    "        if el <= timestamps_30fps[0]:\n",
    "            answer.append(0)\n",
    "            continue\n",
    "        elif el >= timestamps_30fps[-1]:\n",
    "            answer.append(len(timestamps_30fps) - 1)\n",
    "            continue\n",
    "            \n",
    "        low = 0\n",
    "        high = len(timestamps_30fps) - 1\n",
    "        \n",
    "        while low <= high:\n",
    "            mid = low + (high - low) // 2\n",
    "            \n",
    "            if timestamps_30fps[mid] > el:\n",
    "                high = mid - 1\n",
    "                \n",
    "            elif timestamps_30fps[mid] < el:\n",
    "                low = mid + 1\n",
    "                \n",
    "            else:\n",
    "                low = mid\n",
    "                break\n",
    "                \n",
    "        left = low - 1\n",
    "        right = low\n",
    "        \n",
    "        if left < 0 or (right < len(timestamps_30fps) and abs(timestamps_30fps[left] - el) > abs(timestamps_30fps[right] - el)):\n",
    "            answer.append(right) \n",
    "            \n",
    "        else:\n",
    "            answer.append(left)    \n",
    "            \n",
    "    return answer\n",
    "            \n",
    "    \n",
    "res = 0\n",
    "for i in range(10):\n",
    "    start = time.time()\n",
    "    video_length_sec = np.random.randint(1000, 4000) # optimize the implementation for the lengths in range 1000-4000 seconds\n",
    "    timestamps_30fps = get_sample_timestamps(30, video_length_sec)\n",
    "    timestamps_60fps = get_sample_timestamps(60, video_length_sec)\n",
    "    result_1 = match_timestamps(timestamps_30fps, timestamps_60fps)\n",
    "    res += (time.time() - start)\n",
    "    \n",
    "print(\"Time: \", res / 10)\n",
    "#print(result_1)"
   ]
  },
  {
   "cell_type": "code",
   "execution_count": 22,
   "metadata": {},
   "outputs": [
    {
     "name": "stdout",
     "output_type": "stream",
     "text": [
      "Time:  4.391220211982727\n"
     ]
    }
   ],
   "source": [
    "\"\"\"\n",
    "Воспользуемся библиотекой bisect. В ней имеется бинарный поиск, реализованный в питоне (работает корректно, если массив \n",
    "отсортирован по возрастанию). Bisect тоже, как и бинарный поиск, имеет логарифмическую сложность.\n",
    "\"\"\"\n",
    "import bisect\n",
    "\n",
    "def match_2(timestamps_30fps, timestamps_60fps):\n",
    "    answer = []\n",
    "    for el in timestamps_60fps:\n",
    "        index = bisect.bisect_left(timestamps_30fps, el)\n",
    "        \n",
    "        if index - 1 < 0 or (index < len(timestamps_30fps) and (abs(timestamps_30fps[index - 1] - el) > abs(timestamps_30fps[index] - el))):\n",
    "            answer.append(index)\n",
    "            \n",
    "        else:\n",
    "            answer.append(index-1)\n",
    "        \n",
    "    return answer\n",
    "\n",
    "res_2 = 0\n",
    "for i in range(10):\n",
    "    start = time.time()\n",
    "    video_length_sec = np.random.randint(1000, 4000) # optimize the implementation for the lengths in range 1000-4000 seconds\n",
    "    timestamps_30fps = get_sample_timestamps(30, video_length_sec)\n",
    "    timestamps_60fps = get_sample_timestamps(60, video_length_sec)\n",
    "    result_2 = match_2(timestamps_30fps, timestamps_60fps)\n",
    "    res_2 += (time.time() - start)\n",
    "    \n",
    "print(\"Time: \", res_2 / 10)\n",
    "#print(result_2)"
   ]
  },
  {
   "cell_type": "code",
   "execution_count": 5,
   "metadata": {},
   "outputs": [
    {
     "data": {
      "text/plain": [
       "True"
      ]
     },
     "execution_count": 5,
     "metadata": {},
     "output_type": "execute_result"
    }
   ],
   "source": [
    "#Проверим, что результаты одинаковые\n",
    "\n",
    "result_1 == result_2"
   ]
  }
 ],
 "metadata": {
  "kernelspec": {
   "display_name": "Python 3",
   "language": "python",
   "name": "python3"
  },
  "language_info": {
   "codemirror_mode": {
    "name": "ipython",
    "version": 3
   },
   "file_extension": ".py",
   "mimetype": "text/x-python",
   "name": "python",
   "nbconvert_exporter": "python",
   "pygments_lexer": "ipython3",
   "version": "3.7.4"
  }
 },
 "nbformat": 4,
 "nbformat_minor": 5
}
